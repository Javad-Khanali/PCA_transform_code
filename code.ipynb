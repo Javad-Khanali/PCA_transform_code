{
 "cells": [
  {
   "cell_type": "code",
   "execution_count": 4,
   "metadata": {
    "scrolled": true
   },
   "outputs": [],
   "source": [
    "import pandas as pd\n",
    "from sklearn.preprocessing import StandardScaler\n",
    "from sklearn.model_selection import train_test_split\n",
    "from sklearn.decomposition import PCA\n",
    "from sklearn.datasets import load_breast_cancer"
   ]
  },
  {
   "cell_type": "code",
   "execution_count": 5,
   "metadata": {},
   "outputs": [],
   "source": [
    "bc = load_breast_cancer()\n",
    "X = pd.DataFrame(bc[\"data\"], columns = bc[\"feature_names\"])\n",
    "y = pd.DataFrame(bc[\"target\"], columns = [\"target\"])\n",
    "scaler = StandardScaler()\n",
    "scaler.fit(X)\n",
    "X_scaled = pd.DataFrame(scaler.transform(X), columns= bc[\"feature_names\"])"
   ]
  },
  {
   "cell_type": "code",
   "execution_count": 6,
   "metadata": {},
   "outputs": [],
   "source": [
    "X_train, X_test, y_train, y_test = train_test_split(X_scaled, y, test_size = 0.2)"
   ]
  },
  {
   "cell_type": "code",
   "execution_count": 18,
   "metadata": {},
   "outputs": [
    {
     "data": {
      "text/plain": [
       "PCA(n_components=2)"
      ]
     },
     "execution_count": 18,
     "metadata": {},
     "output_type": "execute_result"
    }
   ],
   "source": [
    "pca_model = PCA(n_components = 2)\n",
    "pca_model.fit(X_train)"
   ]
  },
  {
   "cell_type": "code",
   "execution_count": null,
   "metadata": {},
   "outputs": [],
   "source": [
    "component_1 = []\n",
    "component_2 = []\n",
    "for item in range(len(X_train)):\n",
    "    b = 0\n",
    "    for item_2 in range(len (bc.feature_names)):\n",
    "        a = X_train.iloc[item].loc[bc.feature_names[item_2]] * pca_model.components_[0][item_2]\n",
    "        b = b + a\n",
    "    component_1.append(b)\n",
    "for item in range(len(X_train)):\n",
    "    b = 0\n",
    "    for item_2 in range(len (bc.feature_names)):\n",
    "        a = X_train.iloc[item].loc[bc.feature_names[item_2]] * pca_model.components_[1][item_2]\n",
    "        b = b + a\n",
    "    component_2.append(b)\n",
    "X_train_transformed = pd.DataFrame({\"component_1\": component_1, \"component_2\":component_2})\n",
    "X_train_transformed"
   ]
  }
 ],
 "metadata": {
  "kernelspec": {
   "display_name": "Python 3",
   "language": "python",
   "name": "python3"
  },
  "language_info": {
   "codemirror_mode": {
    "name": "ipython",
    "version": 3
   },
   "file_extension": ".py",
   "mimetype": "text/x-python",
   "name": "python",
   "nbconvert_exporter": "python",
   "pygments_lexer": "ipython3",
   "version": "3.8.5"
  }
 },
 "nbformat": 4,
 "nbformat_minor": 4
}
